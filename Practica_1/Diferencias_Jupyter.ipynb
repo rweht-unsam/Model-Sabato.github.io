{
 "cells": [
  {
   "cell_type": "code",
   "execution_count": 1,
   "id": "6f164f38-671c-42b0-bac2-548ab49ee529",
   "metadata": {},
   "outputs": [
    {
     "name": "stdout",
     "output_type": "stream",
     "text": [
      "Defaulting to user installation because normal site-packages is not writeable\n",
      "Requirement already satisfied: nbdime in /home/ruweht/.local/lib/python3.12/site-packages (4.0.2)\n",
      "Requirement already satisfied: colorama in /home/ruweht/.local/lib/python3.12/site-packages (from nbdime) (0.4.6)\n",
      "Requirement already satisfied: gitpython!=2.1.4,!=2.1.5,!=2.1.6 in /home/ruweht/.local/lib/python3.12/site-packages (from nbdime) (3.1.43)\n",
      "Requirement already satisfied: jinja2>=2.9 in /usr/lib/python3.12/site-packages (from nbdime) (3.1.5)\n",
      "Requirement already satisfied: jupyter-server in /usr/lib/python3.12/site-packages (from nbdime) (2.12.5)\n",
      "Requirement already satisfied: jupyter-server-mathjax>=0.2.2 in /home/ruweht/.local/lib/python3.12/site-packages (from nbdime) (0.2.6)\n",
      "Requirement already satisfied: nbformat in /usr/lib/python3.12/site-packages (from nbdime) (5.9.2)\n",
      "Requirement already satisfied: pygments in /usr/lib/python3.12/site-packages (from nbdime) (2.17.2)\n",
      "Requirement already satisfied: requests in /usr/lib/python3.12/site-packages (from nbdime) (2.31.0)\n",
      "Requirement already satisfied: tornado in /usr/lib64/python3.12/site-packages (from nbdime) (6.3.3)\n",
      "Requirement already satisfied: gitdb<5,>=4.0.1 in /home/ruweht/.local/lib/python3.12/site-packages (from gitpython!=2.1.4,!=2.1.5,!=2.1.6->nbdime) (4.0.11)\n",
      "Requirement already satisfied: MarkupSafe>=2.0 in /usr/lib64/python3.12/site-packages (from jinja2>=2.9->nbdime) (2.1.3)\n",
      "Requirement already satisfied: anyio>=3.1.0 in /usr/lib/python3.12/site-packages (from jupyter-server->nbdime) (3.7.1)\n",
      "Requirement already satisfied: argon2-cffi in /usr/lib/python3.12/site-packages (from jupyter-server->nbdime) (21.3.0)\n",
      "Requirement already satisfied: jupyter-client>=7.4.4 in /usr/lib/python3.12/site-packages (from jupyter-server->nbdime) (7.4.9)\n",
      "Requirement already satisfied: jupyter-core!=5.0.*,>=4.12 in /usr/lib/python3.12/site-packages (from jupyter-server->nbdime) (5.1.0)\n",
      "Requirement already satisfied: jupyter-events>=0.9.0 in /usr/lib/python3.12/site-packages (from jupyter-server->nbdime) (0.9.0)\n",
      "Requirement already satisfied: jupyter-server-terminals in /usr/lib/python3.12/site-packages (from jupyter-server->nbdime) (0.4.2)\n",
      "Requirement already satisfied: nbconvert>=6.4.4 in /usr/lib/python3.12/site-packages (from jupyter-server->nbdime) (7.16.0)\n",
      "Requirement already satisfied: packaging in /usr/lib/python3.12/site-packages (from jupyter-server->nbdime) (23.2)\n",
      "Requirement already satisfied: prometheus-client in /usr/lib/python3.12/site-packages (from jupyter-server->nbdime) (0.19.0)\n",
      "Requirement already satisfied: pyzmq>=24 in /usr/lib64/python3.12/site-packages (from jupyter-server->nbdime) (25.1.2)\n",
      "Requirement already satisfied: send2trash>=1.8.2 in /usr/lib/python3.12/site-packages (from jupyter-server->nbdime) (1.8.2)\n",
      "Requirement already satisfied: terminado>=0.8.3 in /usr/lib/python3.12/site-packages (from jupyter-server->nbdime) (0.18.0)\n",
      "Requirement already satisfied: traitlets>=5.6.0 in /usr/lib/python3.12/site-packages (from jupyter-server->nbdime) (5.14.1)\n",
      "Requirement already satisfied: websocket-client in /usr/lib/python3.12/site-packages (from jupyter-server->nbdime) (1.3.3)\n",
      "Requirement already satisfied: fastjsonschema in /usr/lib/python3.12/site-packages (from nbformat->nbdime) (2.18.0)\n",
      "Requirement already satisfied: jsonschema>=2.6 in /usr/lib/python3.12/site-packages (from nbformat->nbdime) (4.19.1)\n",
      "Requirement already satisfied: charset-normalizer<4,>=2 in /usr/lib/python3.12/site-packages (from requests->nbdime) (3.3.2)\n",
      "Requirement already satisfied: idna<4,>=2.5 in /usr/lib/python3.12/site-packages (from requests->nbdime) (3.7)\n",
      "Requirement already satisfied: urllib3<3,>=1.21.1 in /usr/lib/python3.12/site-packages (from requests->nbdime) (1.26.20)\n",
      "Requirement already satisfied: sniffio>=1.1 in /usr/lib/python3.12/site-packages (from anyio>=3.1.0->jupyter-server->nbdime) (1.3.0)\n",
      "Requirement already satisfied: smmap<6,>=3.0.1 in /home/ruweht/.local/lib/python3.12/site-packages (from gitdb<5,>=4.0.1->gitpython!=2.1.4,!=2.1.5,!=2.1.6->nbdime) (5.0.1)\n",
      "Requirement already satisfied: attrs>=22.2.0 in /usr/lib/python3.12/site-packages (from jsonschema>=2.6->nbformat->nbdime) (23.2.0)\n",
      "Requirement already satisfied: jsonschema-specifications>=2023.03.6 in /usr/lib/python3.12/site-packages (from jsonschema>=2.6->nbformat->nbdime) (2023.11.2)\n",
      "Requirement already satisfied: referencing>=0.28.4 in /usr/lib/python3.12/site-packages (from jsonschema>=2.6->nbformat->nbdime) (0.31.1)\n",
      "Requirement already satisfied: rpds-py>=0.7.1 in /usr/lib64/python3.12/site-packages (from jsonschema>=2.6->nbformat->nbdime) (0.18.1)\n",
      "Requirement already satisfied: entrypoints in /usr/lib/python3.12/site-packages (from jupyter-client>=7.4.4->jupyter-server->nbdime) (0.4)\n",
      "Requirement already satisfied: nest-asyncio>=1.5.4 in /usr/lib/python3.12/site-packages (from jupyter-client>=7.4.4->jupyter-server->nbdime) (1.6.0)\n",
      "Requirement already satisfied: python-dateutil>=2.8.2 in /usr/lib/python3.12/site-packages (from jupyter-client>=7.4.4->jupyter-server->nbdime) (2.8.2)\n",
      "Requirement already satisfied: platformdirs>=2.5 in /usr/lib/python3.12/site-packages (from jupyter-core!=5.0.*,>=4.12->jupyter-server->nbdime) (3.11.0)\n",
      "Requirement already satisfied: python-json-logger>=2.0.4 in /usr/lib/python3.12/site-packages (from jupyter-events>=0.9.0->jupyter-server->nbdime) (2.0.4)\n",
      "Requirement already satisfied: pyyaml>=5.3 in /usr/lib64/python3.12/site-packages (from jupyter-events>=0.9.0->jupyter-server->nbdime) (6.0.1)\n",
      "Requirement already satisfied: rfc3339-validator in /usr/lib/python3.12/site-packages (from jupyter-events>=0.9.0->jupyter-server->nbdime) (0.1.4)\n",
      "Requirement already satisfied: rfc3986-validator>=0.1.1 in /usr/lib/python3.12/site-packages (from jupyter-events>=0.9.0->jupyter-server->nbdime) (0.1.1)\n",
      "Requirement already satisfied: beautifulsoup4 in /usr/lib/python3.12/site-packages (from nbconvert>=6.4.4->jupyter-server->nbdime) (4.12.3)\n",
      "Requirement already satisfied: bleach!=5.0.0 in /usr/lib/python3.12/site-packages (from nbconvert>=6.4.4->jupyter-server->nbdime) (6.2.0)\n",
      "Requirement already satisfied: defusedxml in /usr/lib/python3.12/site-packages (from nbconvert>=6.4.4->jupyter-server->nbdime) (0.7.1)\n",
      "Requirement already satisfied: jupyterlab-pygments in /usr/lib/python3.12/site-packages (from nbconvert>=6.4.4->jupyter-server->nbdime) (0.3.0)\n",
      "Requirement already satisfied: mistune<4,>=2.0.3 in /usr/lib/python3.12/site-packages (from nbconvert>=6.4.4->jupyter-server->nbdime) (2.0.4)\n",
      "Requirement already satisfied: nbclient>=0.5.0 in /usr/lib/python3.12/site-packages (from nbconvert>=6.4.4->jupyter-server->nbdime) (0.9.0)\n",
      "Requirement already satisfied: pandocfilters>=1.4.1 in /usr/lib/python3.12/site-packages (from nbconvert>=6.4.4->jupyter-server->nbdime) (1.5.1)\n",
      "Requirement already satisfied: tinycss2 in /usr/lib/python3.12/site-packages (from nbconvert>=6.4.4->jupyter-server->nbdime) (1.2.1)\n",
      "Requirement already satisfied: ptyprocess in /usr/lib/python3.12/site-packages (from terminado>=0.8.3->jupyter-server->nbdime) (0.7.0)\n",
      "Requirement already satisfied: argon2-cffi-bindings in /usr/lib64/python3.12/site-packages (from argon2-cffi->jupyter-server->nbdime) (21.2.0)\n",
      "Requirement already satisfied: decorator in /usr/lib/python3.12/site-packages (from prometheus-client->jupyter-server->nbdime) (5.1.1)\n",
      "Requirement already satisfied: webencodings in /usr/lib/python3.12/site-packages (from bleach!=5.0.0->nbconvert>=6.4.4->jupyter-server->nbdime) (0.5.1)\n",
      "Requirement already satisfied: fqdn in /usr/lib/python3.12/site-packages (from jsonschema[format-nongpl]>=4.18.0->jupyter-events>=0.9.0->jupyter-server->nbdime) (1.5.1)\n",
      "Requirement already satisfied: isoduration in /usr/lib/python3.12/site-packages (from jsonschema[format-nongpl]>=4.18.0->jupyter-events>=0.9.0->jupyter-server->nbdime) (20.11.0)\n",
      "Requirement already satisfied: jsonpointer>1.13 in /usr/lib/python3.12/site-packages (from jsonschema[format-nongpl]>=4.18.0->jupyter-events>=0.9.0->jupyter-server->nbdime) (2.3)\n",
      "Requirement already satisfied: uri-template in /usr/lib/python3.12/site-packages (from jsonschema[format-nongpl]>=4.18.0->jupyter-events>=0.9.0->jupyter-server->nbdime) (1.2.0)\n",
      "Requirement already satisfied: webcolors>=1.11 in /usr/lib/python3.12/site-packages (from jsonschema[format-nongpl]>=4.18.0->jupyter-events>=0.9.0->jupyter-server->nbdime) (1.13)\n",
      "Requirement already satisfied: six>=1.5 in /usr/lib/python3.12/site-packages (from python-dateutil>=2.8.2->jupyter-client>=7.4.4->jupyter-server->nbdime) (1.16.0)\n",
      "Requirement already satisfied: cffi>=1.0.1 in /usr/lib64/python3.12/site-packages (from argon2-cffi-bindings->argon2-cffi->jupyter-server->nbdime) (1.16.0)\n",
      "Requirement already satisfied: soupsieve>1.2 in /usr/lib/python3.12/site-packages (from beautifulsoup4->nbconvert>=6.4.4->jupyter-server->nbdime) (2.5)\n",
      "Requirement already satisfied: pycparser in /usr/lib/python3.12/site-packages (from cffi>=1.0.1->argon2-cffi-bindings->argon2-cffi->jupyter-server->nbdime) (2.20)\n",
      "Requirement already satisfied: arrow>=0.15.0 in /usr/lib/python3.12/site-packages (from isoduration->jsonschema[format-nongpl]>=4.18.0->jupyter-events>=0.9.0->jupyter-server->nbdime) (1.2.3)\n",
      "Requirement already satisfied: ply==3.11 in /usr/lib/python3.12/site-packages (from pycparser->cffi>=1.0.1->argon2-cffi-bindings->argon2-cffi->jupyter-server->nbdime) (3.11)\n",
      "[I nbdimeserver:431] Listening on 127.0.0.1, port 44233\n",
      "[I webutil:29] URL: http://127.0.0.1:44233/diff?base=Ejemplo_1.ipynb&remote=Ejemplo_2.ipynb\n",
      "[I nbdimeserver:320] Closing server on remote request (0)\n"
     ]
    }
   ],
   "source": [
    "!pip install nbdime\n",
    "!nbdiff-web Ejemplo_1.ipynb Ejemplo_2.ipynb"
   ]
  }
 ],
 "metadata": {
  "kernelspec": {
   "display_name": "Python 3 (ipykernel)",
   "language": "python",
   "name": "python3"
  },
  "language_info": {
   "codemirror_mode": {
    "name": "ipython",
    "version": 3
   },
   "file_extension": ".py",
   "mimetype": "text/x-python",
   "name": "python",
   "nbconvert_exporter": "python",
   "pygments_lexer": "ipython3",
   "version": "3.12.9"
  }
 },
 "nbformat": 4,
 "nbformat_minor": 5
}
