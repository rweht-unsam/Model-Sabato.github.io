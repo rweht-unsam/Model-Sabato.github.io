{
 "cells": [
  {
   "cell_type": "code",
   "execution_count": 1,
   "id": "472efa3c-f5da-4072-a5bd-f8f044356389",
   "metadata": {},
   "outputs": [],
   "source": [
    "import numpy as np\n",
    "import scipy as sp\n",
    "a=np.pi\n",
    "b=sp.pi"
   ]
  },
  {
   "cell_type": "code",
   "execution_count": 2,
   "id": "3e1608f1-e0f1-49c5-8fd6-dad4465ebe42",
   "metadata": {},
   "outputs": [
    {
     "name": "stdout",
     "output_type": "stream",
     "text": [
      "3.141592653589793\n",
      "3.141592653589793\n"
     ]
    }
   ],
   "source": [
    "print(a)\n",
    "print(b)"
   ]
  }
 ],
 "metadata": {
  "kernelspec": {
   "display_name": "Python 3 (ipykernel)",
   "language": "python",
   "name": "python3"
  },
  "language_info": {
   "codemirror_mode": {
    "name": "ipython",
    "version": 3
   },
   "file_extension": ".py",
   "mimetype": "text/x-python",
   "name": "python",
   "nbconvert_exporter": "python",
   "pygments_lexer": "ipython3",
   "version": "3.12.9"
  }
 },
 "nbformat": 4,
 "nbformat_minor": 5
}
